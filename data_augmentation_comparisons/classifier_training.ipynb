{
  "nbformat": 4,
  "nbformat_minor": 0,
  "metadata": {
    "colab": {
      "provenance": []
    },
    "kernelspec": {
      "name": "python3",
      "display_name": "Python 3"
    },
    "language_info": {
      "name": "python"
    }
  },
  "cells": [
    {
      "cell_type": "code",
      "source": [
        "import logging\n",
        "import pandas as pd\n",
        "import numpy as np\n",
        "from numpy import random\n",
        "import gensim\n",
        "import nltk\n",
        "from sklearn.model_selection import train_test_split\n",
        "from sklearn.feature_extraction.text import CountVectorizer, TfidfVectorizer\n",
        "from sklearn.metrics import accuracy_score, confusion_matrix\n",
        "import matplotlib.pyplot as plt\n",
        "from nltk.corpus import stopwords\n",
        "import re\n",
        "from bs4 import BeautifulSoup\n",
        "%matplotlib inline\n",
        "\n",
        "df_train = pd.read_csv('train.csv')\n",
        "print(df_train.head(10))\n",
        "\n",
        "print(\"\\n\\n\\n\")\n",
        "\n",
        "df_test = pd.read_csv(\"test.csv\")\n",
        "print(df_test.head(10))\n",
        "\n",
        "\n",
        "df_mixed_train = pd.read_csv(\"train_mixed.csv\")\n",
        "print(df_test.head(10))"
      ],
      "metadata": {
        "colab": {
          "base_uri": "https://localhost:8080/"
        },
        "id": "lW-cTWYxGiaq",
        "outputId": "62601508-ddef-4c79-8cb6-b045d319c977"
      },
      "execution_count": 1,
      "outputs": [
        {
          "output_type": "stream",
          "name": "stdout",
          "text": [
            "                                            headline   category\n",
            "0                      Myanmar'da çatışmalar sürüyor      dunya\n",
            "1  Ermenistan'da cumhurbaşkanı adayına silahlı sa...      dunya\n",
            "2                             Süper Lig'den transfer       spor\n",
            "3           Erdoğan: İç hesaplaşma ihtimali yüksek    siyaset\n",
            "4                      AB'den güvenli internet adımı  teknoloji\n",
            "5                AB \"1 trilyon euro\" için toplanıyor    ekonomi\n",
            "6                    İpek Şenoğlu Cup 11-24 Şubatta       spor\n",
            "7        Kordsa 120 iş liderini İstanbulda ağırladı    ekonomi\n",
            "8       Bursada 900 milyon ton mermer rezervi çıktı    ekonomi\n",
            "9               'Başbakan tek otorite olmak istiyor'    siyaset\n",
            "\n",
            "\n",
            "\n",
            "\n",
            "                                     headline category\n",
            "0   İsrail'den Gazze Şeridi'ne hava saldırısı    dunya\n",
            "1     İdam edecek ama organlara el koymayacak    dunya\n",
            "2              4 milyon dolar nafaka ödeyecek    dunya\n",
            "3   Mahmud Abbas'ın 'Bağımsız Filistin' umudu    dunya\n",
            "4              Brezilya'dan Filistin'e destek    dunya\n",
            "5                 Hükümetin eğitim notu zayıf    dunya\n",
            "6      Almanya'nın en güzel Türk kızı seçildi    dunya\n",
            "7  Japon elçi, Güney Kore lideriyle görüşecek    dunya\n",
            "8       Pakistan'da patlama: 8 ölü, 40 yaralı    dunya\n",
            "9         Fildişi'nde yılbaşı faciası: 60 ölü    dunya\n",
            "                                     headline category\n",
            "0   İsrail'den Gazze Şeridi'ne hava saldırısı    dunya\n",
            "1     İdam edecek ama organlara el koymayacak    dunya\n",
            "2              4 milyon dolar nafaka ödeyecek    dunya\n",
            "3   Mahmud Abbas'ın 'Bağımsız Filistin' umudu    dunya\n",
            "4              Brezilya'dan Filistin'e destek    dunya\n",
            "5                 Hükümetin eğitim notu zayıf    dunya\n",
            "6      Almanya'nın en güzel Türk kızı seçildi    dunya\n",
            "7  Japon elçi, Güney Kore lideriyle görüşecek    dunya\n",
            "8       Pakistan'da patlama: 8 ölü, 40 yaralı    dunya\n",
            "9         Fildişi'nde yılbaşı faciası: 60 ölü    dunya\n"
          ]
        }
      ]
    },
    {
      "cell_type": "code",
      "source": [
        "x_train = df_train.headline\n",
        "y_train = df_train.category\n",
        "\n",
        "x_test= df_test.headline\n",
        "y_test = df_test.category\n",
        "\n",
        "x_mixed_train = df_mixed_train.headline\n",
        "y_mixed_train = df_mixed_train.category\n",
        "\n",
        "x_mixed_test= df_test.headline\n",
        "y_test = df_test.category\n"
      ],
      "metadata": {
        "id": "nDJbeyQRG1lE"
      },
      "execution_count": 2,
      "outputs": []
    },
    {
      "cell_type": "code",
      "execution_count": 9,
      "metadata": {
        "colab": {
          "base_uri": "https://localhost:8080/"
        },
        "id": "UF0lB174GcEi",
        "outputId": "aa40ce3d-3ee2-4f34-efac-fa204324a06c"
      },
      "outputs": [
        {
          "output_type": "stream",
          "name": "stdout",
          "text": [
            "------Naive Bayes, base training------\n",
            "accuracy 0.6610820780817707\n",
            "              precision    recall  f1-score   support\n",
            "\n",
            "       dunya       0.67      0.76      0.71      1489\n",
            "     ekonomi       0.84      0.37      0.52       903\n",
            "        spor       1.00      0.03      0.06       298\n",
            "     siyaset       0.97      0.18      0.31       373\n",
            "   teknoloji       0.93      0.19      0.32       498\n",
            "      kultur       0.63      0.97      0.76      2729\n",
            "      saglik       1.00      0.01      0.03       216\n",
            "\n",
            "    accuracy                           0.66      6506\n",
            "   macro avg       0.86      0.36      0.39      6506\n",
            "weighted avg       0.74      0.66      0.60      6506\n",
            "\n"
          ]
        }
      ],
      "source": [
        "from sklearn.naive_bayes import MultinomialNB\n",
        "from sklearn.pipeline import Pipeline\n",
        "from sklearn.feature_extraction.text import TfidfTransformer\n",
        "\n",
        "nb = Pipeline([('vect', CountVectorizer()),\n",
        "               ('tfidf', TfidfTransformer()),\n",
        "               ('clf', MultinomialNB()),\n",
        "              ])\n",
        "nb.fit(x_train, y_train)\n",
        "\n",
        "from sklearn.metrics import classification_report\n",
        "y_pred = nb.predict(x_test)\n",
        "\n",
        "print(\"------Naive Bayes, base training------\")\n",
        "my_categories = [\"dunya\", \"ekonomi\",\"spor\",\"siyaset\",\"teknoloji\",\"kultur\",\"saglik\"]\n",
        "print('accuracy %s' % accuracy_score(y_pred, y_test))\n",
        "NB_base_report = classification_report(y_test, y_pred,target_names=my_categories)\n",
        "print(NB_base_report)"
      ]
    },
    {
      "cell_type": "code",
      "source": [
        "df_mixed_default_train = pd.read_csv(\"train_default_mixed.csv\")\n",
        "\n",
        "\n",
        "x_mixed_default_train = df_mixed_default_train.headline\n",
        "y_mixed_default_train = df_mixed_default_train.category\n",
        "nb = Pipeline([('vect', CountVectorizer()),\n",
        "               ('tfidf', TfidfTransformer()),\n",
        "               ('clf', MultinomialNB()),\n",
        "              ])\n",
        "nb.fit(x_mixed_default_train, y_mixed_default_train)\n",
        "\n",
        "from sklearn.metrics import classification_report\n",
        "y_pred = nb.predict(x_test)\n",
        "\n",
        "print(\"------Naive Bayes, data augmented with default gpt2------\")\n",
        "\n",
        "print('accuracy %s' % accuracy_score(y_pred, y_test))\n",
        "NB_default_augmented_report = classification_report(y_test, y_pred,target_names=my_categories)\n",
        "print(NB_default_augmented_report)\n"
      ],
      "metadata": {
        "colab": {
          "base_uri": "https://localhost:8080/"
        },
        "id": "EtEJC4Vmjh1O",
        "outputId": "ee6ff4c5-3d2d-4156-d15b-e8daf48ca441"
      },
      "execution_count": 6,
      "outputs": [
        {
          "output_type": "stream",
          "name": "stdout",
          "text": [
            "------Naive Bayes, data augmented with default gpt2------\n",
            "accuracy 0.6801414079311405\n",
            "              precision    recall  f1-score   support\n",
            "\n",
            "       dunya       0.76      0.67      0.71      1489\n",
            "     ekonomi       0.52      0.79      0.63       903\n",
            "        spor       1.00      0.02      0.03       298\n",
            "     siyaset       1.00      0.10      0.18       373\n",
            "   teknoloji       0.94      0.15      0.26       498\n",
            "      kultur       0.70      0.95      0.81      2729\n",
            "      saglik       1.00      0.00      0.01       216\n",
            "\n",
            "    accuracy                           0.68      6506\n",
            "   macro avg       0.85      0.38      0.38      6506\n",
            "weighted avg       0.75      0.68      0.62      6506\n",
            "\n"
          ]
        }
      ]
    },
    {
      "cell_type": "code",
      "source": [
        "nb = Pipeline([('vect', CountVectorizer()),\n",
        "               ('tfidf', TfidfTransformer()),\n",
        "               ('clf', MultinomialNB()),\n",
        "              ])\n",
        "nb.fit(x_mixed_train, y_mixed_train)\n",
        "\n",
        "from sklearn.metrics import classification_report\n",
        "y_pred = nb.predict(x_mixed_test)\n",
        "\n",
        "print(\"------Naive Bayes, data augmented training------\")\n",
        "\n",
        "my_categories = [\"dunya\", \"ekonomi\",\"spor\",\"siyaset\",\"teknoloji\",\"kultur\",\"saglik\"]\n",
        "print('accuracy %s' % accuracy_score(y_pred, y_test))\n",
        "NB_augmented_report = classification_report(y_test, y_pred,target_names=my_categories)\n",
        "print(NB_augmented_report)"
      ],
      "metadata": {
        "colab": {
          "base_uri": "https://localhost:8080/"
        },
        "id": "XEEDPFwPLepx",
        "outputId": "90544c19-3abb-48ab-99ef-701e0158fcd6"
      },
      "execution_count": 12,
      "outputs": [
        {
          "output_type": "stream",
          "name": "stdout",
          "text": [
            "------Naive Bayes, data augmented training------\n",
            "accuracy 0.692130341223486\n",
            "              precision    recall  f1-score   support\n",
            "\n",
            "       dunya       0.74      0.71      0.72      1489\n",
            "     ekonomi       0.59      0.78      0.67       903\n",
            "        spor       1.00      0.02      0.04       298\n",
            "     siyaset       0.98      0.13      0.23       373\n",
            "   teknoloji       0.93      0.17      0.29       498\n",
            "      kultur       0.70      0.96      0.81      2729\n",
            "      saglik       1.00      0.01      0.02       216\n",
            "\n",
            "    accuracy                           0.69      6506\n",
            "   macro avg       0.85      0.40      0.40      6506\n",
            "weighted avg       0.75      0.69      0.63      6506\n",
            "\n"
          ]
        }
      ]
    },
    {
      "cell_type": "code",
      "source": [
        "print(\"base\\n\")\n",
        "print(NB_base_report)\n",
        "print(\"------------------------------------------\")\n",
        "print(\"data augmented with baseline gpt2\\n\")\n",
        "print(NB_default_augmented_report)\n",
        "print(\"------------------------------------------\")\n",
        "\n",
        "print(\"data augmented with our model\\n\")\n",
        "print(NB_augmented_report)"
      ],
      "metadata": {
        "colab": {
          "base_uri": "https://localhost:8080/"
        },
        "id": "BiY3yfYtpLkp",
        "outputId": "53ecac88-420f-4ff0-96a5-5b556c5e9afb"
      },
      "execution_count": 17,
      "outputs": [
        {
          "output_type": "stream",
          "name": "stdout",
          "text": [
            "base\n",
            "\n",
            "              precision    recall  f1-score   support\n",
            "\n",
            "       dunya       0.67      0.76      0.71      1489\n",
            "     ekonomi       0.84      0.37      0.52       903\n",
            "        spor       1.00      0.03      0.06       298\n",
            "     siyaset       0.97      0.18      0.31       373\n",
            "   teknoloji       0.93      0.19      0.32       498\n",
            "      kultur       0.63      0.97      0.76      2729\n",
            "      saglik       1.00      0.01      0.03       216\n",
            "\n",
            "    accuracy                           0.66      6506\n",
            "   macro avg       0.86      0.36      0.39      6506\n",
            "weighted avg       0.74      0.66      0.60      6506\n",
            "\n",
            "------------------------------------------\n",
            "data augmented with baseline gpt2\n",
            "\n",
            "              precision    recall  f1-score   support\n",
            "\n",
            "       dunya       0.76      0.67      0.71      1489\n",
            "     ekonomi       0.52      0.79      0.63       903\n",
            "        spor       1.00      0.02      0.03       298\n",
            "     siyaset       1.00      0.10      0.18       373\n",
            "   teknoloji       0.94      0.15      0.26       498\n",
            "      kultur       0.70      0.95      0.81      2729\n",
            "      saglik       1.00      0.00      0.01       216\n",
            "\n",
            "    accuracy                           0.68      6506\n",
            "   macro avg       0.85      0.38      0.38      6506\n",
            "weighted avg       0.75      0.68      0.62      6506\n",
            "\n",
            "------------------------------------------\n",
            "data augmented with our model\n",
            "\n",
            "              precision    recall  f1-score   support\n",
            "\n",
            "       dunya       0.74      0.71      0.72      1489\n",
            "     ekonomi       0.59      0.78      0.67       903\n",
            "        spor       1.00      0.02      0.04       298\n",
            "     siyaset       0.98      0.13      0.23       373\n",
            "   teknoloji       0.93      0.17      0.29       498\n",
            "      kultur       0.70      0.96      0.81      2729\n",
            "      saglik       1.00      0.01      0.02       216\n",
            "\n",
            "    accuracy                           0.69      6506\n",
            "   macro avg       0.85      0.40      0.40      6506\n",
            "weighted avg       0.75      0.69      0.63      6506\n",
            "\n"
          ]
        }
      ]
    }
  ]
}