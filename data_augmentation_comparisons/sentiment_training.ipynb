{
  "nbformat": 4,
  "nbformat_minor": 0,
  "metadata": {
    "colab": {
      "provenance": [],
      "machine_shape": "hm"
    },
    "kernelspec": {
      "name": "python3",
      "display_name": "Python 3"
    },
    "language_info": {
      "name": "python"
    }
  },
  "cells": [
    {
      "cell_type": "code",
      "source": [
        "import logging\n",
        "import pandas as pd\n",
        "import numpy as np\n",
        "from numpy import random\n",
        "import gensim\n",
        "import nltk\n",
        "from sklearn.model_selection import train_test_split\n",
        "from sklearn.feature_extraction.text import CountVectorizer, TfidfVectorizer\n",
        "from sklearn.metrics import accuracy_score, confusion_matrix\n",
        "import matplotlib.pyplot as plt\n",
        "from nltk.corpus import stopwords\n",
        "import re\n",
        "from bs4 import BeautifulSoup\n",
        "%matplotlib inline\n",
        "\n",
        "df_train = pd.read_csv('train_tweets.csv')\n",
        "print(df_train.head(10))\n",
        "\n",
        "print(\"\\n\\n\\n\")\n",
        "\n",
        "df_test = pd.read_csv(\"test_tweets.csv\")\n",
        "print(df_test.head(10))\n",
        "\n",
        "\n",
        "df_mixed_train = pd.read_csv(\"train_tweets_mixed.csv\")\n",
        "print(df_test.head(10))"
      ],
      "metadata": {
        "colab": {
          "base_uri": "https://localhost:8080/"
        },
        "id": "lW-cTWYxGiaq",
        "outputId": "27b5d24b-a0a8-47f3-c214-8712d3c27607"
      },
      "execution_count": 9,
      "outputs": [
        {
          "output_type": "stream",
          "name": "stdout",
          "text": [
            "                                               tweet sentiment\n",
            "0  trt1 e bak beni bloklamış benim vergimle beni ...   Negatif\n",
            "1                      sabah sabah siktirin gidin ya   Negatif\n",
            "2                        Bu adam senimi sikdi bummm    Negatif\n",
            "3   Katliamdan kaçan Suriye liler gitsin Suriye d...   Negatif\n",
            "4                    gercekten pisliginde bogul amk    Negatif\n",
            "5                        Şık bir hareket olur Brate    Pozitif\n",
            "6  Bilginliği ile hava atmaya çalışan gerzek bir ...   Negatif\n",
            "7  Yine kazık gibi oldu var mı kucağa gelmek iste...   Negatif\n",
            "8  nerde salak nerde gerizeka varsa elimle koymuş...   Negatif\n",
            "9                                nerdesin len tirrek   Negatif\n",
            "\n",
            "\n",
            "\n",
            "\n",
            "                                               tweet sentiment\n",
            "0  Anne bir sanatçıdır, en güzel eseri de yavrusu...   Pozitif\n",
            "1                Ben söğüşledim, birazda sen söğüşle   Negatif\n",
            "2  Şerefsizlik, sözde sanatçıların vazgeçemediği ...   Negatif\n",
            "3              Kendisi de bilmiyordur çünkü beyinsiz   Negatif\n",
            "4  aşırı bıyıklı geleneksel keko adam, bi ayrılıp...   Negatif\n",
            "5        Vallahi bu aralar istediğimiz tek şey huzur   Pozitif\n",
            "6  Beyin göçünü engellemeye çalıştığımız gençlere...   Pozitif\n",
            "7  Tarlasını çekerken beni niye çekmedin diye söy...   Pozitif\n",
            "8  Nietzsche Böyle Buyurdu Zerdüştte; \"Ama önce ...   Pozitif\n",
            "9              Yaptığım en başarılı aktivite uyumak.   Pozitif\n",
            "                                               tweet sentiment\n",
            "0  Anne bir sanatçıdır, en güzel eseri de yavrusu...   Pozitif\n",
            "1                Ben söğüşledim, birazda sen söğüşle   Negatif\n",
            "2  Şerefsizlik, sözde sanatçıların vazgeçemediği ...   Negatif\n",
            "3              Kendisi de bilmiyordur çünkü beyinsiz   Negatif\n",
            "4  aşırı bıyıklı geleneksel keko adam, bi ayrılıp...   Negatif\n",
            "5        Vallahi bu aralar istediğimiz tek şey huzur   Pozitif\n",
            "6  Beyin göçünü engellemeye çalıştığımız gençlere...   Pozitif\n",
            "7  Tarlasını çekerken beni niye çekmedin diye söy...   Pozitif\n",
            "8  Nietzsche Böyle Buyurdu Zerdüştte; \"Ama önce ...   Pozitif\n",
            "9              Yaptığım en başarılı aktivite uyumak.   Pozitif\n"
          ]
        }
      ]
    },
    {
      "cell_type": "code",
      "source": [
        "x_train = df_train.tweet\n",
        "y_train = df_train.sentiment\n",
        "\n",
        "x_test= df_test.tweet\n",
        "y_test = df_test.sentiment\n",
        "\n",
        "x_mixed_train = df_mixed_train.tweet\n",
        "y_mixed_train = df_mixed_train.sentiment\n",
        "\n",
        "y_test = df_test.sentiment\n",
        "\n"
      ],
      "metadata": {
        "id": "nDJbeyQRG1lE"
      },
      "execution_count": 10,
      "outputs": []
    },
    {
      "cell_type": "code",
      "execution_count": 11,
      "metadata": {
        "colab": {
          "base_uri": "https://localhost:8080/"
        },
        "id": "UF0lB174GcEi",
        "outputId": "5cb190ba-31bd-479a-d5de-d890cfd054d5"
      },
      "outputs": [
        {
          "output_type": "stream",
          "name": "stdout",
          "text": [
            "------Naive Bayes, base ------\n",
            "accuracy 0.8472824274758253\n",
            "              precision    recall  f1-score   support\n",
            "\n",
            "     Pozitif       0.86      0.78      0.82      1309\n",
            "     Negatif       0.84      0.90      0.87      1690\n",
            "\n",
            "    accuracy                           0.85      2999\n",
            "   macro avg       0.85      0.84      0.84      2999\n",
            "weighted avg       0.85      0.85      0.85      2999\n",
            "\n"
          ]
        }
      ],
      "source": [
        "from sklearn.naive_bayes import MultinomialNB\n",
        "from sklearn.pipeline import Pipeline\n",
        "from sklearn.feature_extraction.text import TfidfTransformer\n",
        "\n",
        "nb = Pipeline([('vect', CountVectorizer()),\n",
        "               ('tfidf', TfidfTransformer()),\n",
        "               ('clf', MultinomialNB()),\n",
        "              ])\n",
        "nb.fit(x_train, y_train)\n",
        "\n",
        "from sklearn.metrics import classification_report\n",
        "y_pred = nb.predict(x_test)\n",
        "\n",
        "print(\"------Naive Bayes, base ------\")\n",
        "my_labels = [\"Pozitif\", \"Negatif\"]\n",
        "print('accuracy %s' % accuracy_score(y_pred, y_test))\n",
        "NB_base_report = classification_report(y_test, y_pred,target_names=my_labels)\n",
        "print(NB_base_report)"
      ]
    },
    {
      "cell_type": "code",
      "source": [
        "df_mixed_default_train = pd.read_csv(\"train_default_tweets_mixed.csv\")\n",
        "\n",
        "\n",
        "x_mixed_default_train = df_mixed_default_train.tweet\n",
        "y_mixed_default_train = df_mixed_default_train.sentiment\n",
        "nb = Pipeline([('vect', CountVectorizer()),\n",
        "               ('tfidf', TfidfTransformer()),\n",
        "               ('clf', MultinomialNB()),\n",
        "              ])\n",
        "nb.fit(x_mixed_default_train, y_mixed_default_train)\n",
        "\n",
        "from sklearn.metrics import classification_report\n",
        "y_pred = nb.predict(x_test)\n",
        "\n",
        "print(\"------Naive Bayes, data augmented with default gpt2------\")\n",
        "\n",
        "print('accuracy %s' % accuracy_score(y_pred, y_test))\n",
        "NB_default_augmented_report = classification_report(y_test, y_pred,target_names=my_labels)\n",
        "print(NB_default_augmented_report)\n"
      ],
      "metadata": {
        "colab": {
          "base_uri": "https://localhost:8080/"
        },
        "id": "RNy1oQt1dHWv",
        "outputId": "20c90d60-6064-43bf-8b65-65dcfd0f7b0e"
      },
      "execution_count": 12,
      "outputs": [
        {
          "output_type": "stream",
          "name": "stdout",
          "text": [
            "------Naive Bayes, data augmented with default gpt2------\n",
            "accuracy 0.7899299766588863\n",
            "              precision    recall  f1-score   support\n",
            "\n",
            "     Pozitif       0.97      0.53      0.69      1309\n",
            "     Negatif       0.73      0.99      0.84      1690\n",
            "\n",
            "    accuracy                           0.79      2999\n",
            "   macro avg       0.85      0.76      0.77      2999\n",
            "weighted avg       0.84      0.79      0.77      2999\n",
            "\n"
          ]
        }
      ]
    },
    {
      "cell_type": "code",
      "source": [
        "nb = Pipeline([('vect', CountVectorizer()),\n",
        "               ('tfidf', TfidfTransformer()),\n",
        "               ('clf', MultinomialNB()),\n",
        "              ])\n",
        "nb.fit(x_mixed_train, y_mixed_train)\n",
        "\n",
        "from sklearn.metrics import classification_report\n",
        "y_pred = nb.predict(x_test)\n",
        "\n",
        "print(\"------Naive Bayes, data augmented with our model------\")\n",
        "\n",
        "print('accuracy %s' % accuracy_score(y_pred, y_test))\n",
        "NB_augmented_report = classification_report(y_test, y_pred,target_names=my_labels)\n",
        "print(NB_augmented_report)\n"
      ],
      "metadata": {
        "colab": {
          "base_uri": "https://localhost:8080/"
        },
        "id": "XEEDPFwPLepx",
        "outputId": "a3c60632-c56a-47d3-fbb4-2d6d272f46c7"
      },
      "execution_count": 13,
      "outputs": [
        {
          "output_type": "stream",
          "name": "stdout",
          "text": [
            "------Naive Bayes, data augmented with our model------\n",
            "accuracy 0.7985995331777259\n",
            "              precision    recall  f1-score   support\n",
            "\n",
            "     Pozitif       0.98      0.55      0.70      1309\n",
            "     Negatif       0.74      0.99      0.85      1690\n",
            "\n",
            "    accuracy                           0.80      2999\n",
            "   macro avg       0.86      0.77      0.78      2999\n",
            "weighted avg       0.84      0.80      0.79      2999\n",
            "\n"
          ]
        }
      ]
    },
    {
      "cell_type": "code",
      "source": [
        "df_mixed_rlhf_train = pd.read_csv(\"train_tweets_mixed_rlhf.csv\")\n",
        "x_mixed_rlhf_train = df_mixed_rlhf_train.tweet\n",
        "y_mixed_rlhf_train = df_mixed_rlhf_train.sentiment\n",
        "\n",
        "nb = Pipeline([('vect', CountVectorizer()),\n",
        "               ('tfidf', TfidfTransformer()),\n",
        "               ('clf', MultinomialNB()),\n",
        "              ])\n",
        "nb.fit(x_mixed_rlhf_train, y_mixed_rlhf_train)\n",
        "\n",
        "from sklearn.metrics import classification_report\n",
        "y_pred = nb.predict(x_test)\n",
        "\n",
        "print(\"------Naive Bayes, data augmented with our model built with RLHF------\")\n",
        "\n",
        "print('accuracy %s' % accuracy_score(y_pred, y_test))\n",
        "NB_rlhf_augmented_report = classification_report(y_test, y_pred,target_names=my_labels)\n",
        "print(NB_augmented_report)\n"
      ],
      "metadata": {
        "colab": {
          "base_uri": "https://localhost:8080/"
        },
        "id": "r2wTkvyin0n2",
        "outputId": "0a3dea85-54f8-4434-d97b-894c18635334"
      },
      "execution_count": 14,
      "outputs": [
        {
          "output_type": "stream",
          "name": "stdout",
          "text": [
            "------Naive Bayes, data augmented with our model built with RLHF------\n",
            "accuracy 0.8109369789929977\n",
            "              precision    recall  f1-score   support\n",
            "\n",
            "     Pozitif       0.98      0.55      0.70      1309\n",
            "     Negatif       0.74      0.99      0.85      1690\n",
            "\n",
            "    accuracy                           0.80      2999\n",
            "   macro avg       0.86      0.77      0.78      2999\n",
            "weighted avg       0.84      0.80      0.79      2999\n",
            "\n"
          ]
        }
      ]
    },
    {
      "cell_type": "code",
      "source": [
        "print(\"base\\n\")\n",
        "print(NB_base_report)\n",
        "print(\"\\n------------------------------------------\\n\")\n",
        "print(\"data augmented with baseline gpt2\")\n",
        "print(NB_default_augmented_report)\n",
        "print(\"\\n------------------------------------------\\n\")\n",
        "\n",
        "print(\"data augmented with pre-trained sentiment analysis model\")\n",
        "print(NB_augmented_report)\n",
        "print(\"\\n------------------------------------------\\n\")\n",
        "\n",
        "print(\"data augmented with our human-feedback trained model\")\n",
        "print(NB_rlhf_augmented_report)\n"
      ],
      "metadata": {
        "colab": {
          "base_uri": "https://localhost:8080/"
        },
        "id": "G-IfzobNQ15X",
        "outputId": "2826dd24-7af9-4142-967f-066a090701b9"
      },
      "execution_count": 19,
      "outputs": [
        {
          "output_type": "stream",
          "name": "stdout",
          "text": [
            "base\n",
            "\n",
            "              precision    recall  f1-score   support\n",
            "\n",
            "     Pozitif       0.86      0.78      0.82      1309\n",
            "     Negatif       0.84      0.90      0.87      1690\n",
            "\n",
            "    accuracy                           0.85      2999\n",
            "   macro avg       0.85      0.84      0.84      2999\n",
            "weighted avg       0.85      0.85      0.85      2999\n",
            "\n",
            "\n",
            "------------------------------------------\n",
            "\n",
            "data augmented with baseline gpt2\n",
            "              precision    recall  f1-score   support\n",
            "\n",
            "     Pozitif       0.97      0.53      0.69      1309\n",
            "     Negatif       0.73      0.99      0.84      1690\n",
            "\n",
            "    accuracy                           0.79      2999\n",
            "   macro avg       0.85      0.76      0.77      2999\n",
            "weighted avg       0.84      0.79      0.77      2999\n",
            "\n",
            "\n",
            "------------------------------------------\n",
            "\n",
            "data augmented with pre-trained sentiment analysis model\n",
            "              precision    recall  f1-score   support\n",
            "\n",
            "     Pozitif       0.98      0.55      0.70      1309\n",
            "     Negatif       0.74      0.99      0.85      1690\n",
            "\n",
            "    accuracy                           0.80      2999\n",
            "   macro avg       0.86      0.77      0.78      2999\n",
            "weighted avg       0.84      0.80      0.79      2999\n",
            "\n",
            "\n",
            "------------------------------------------\n",
            "\n",
            "data augmented with our human-feedback trained model\n",
            "              precision    recall  f1-score   support\n",
            "\n",
            "     Pozitif       0.96      0.59      0.73      1309\n",
            "     Negatif       0.76      0.98      0.85      1690\n",
            "\n",
            "    accuracy                           0.81      2999\n",
            "   macro avg       0.86      0.79      0.79      2999\n",
            "weighted avg       0.85      0.81      0.80      2999\n",
            "\n"
          ]
        }
      ]
    }
  ]
}